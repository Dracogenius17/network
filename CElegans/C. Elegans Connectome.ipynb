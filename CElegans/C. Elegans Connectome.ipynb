{
 "cells": [
  {
   "cell_type": "code",
   "execution_count": null,
   "metadata": {
    "collapsed": false
   },
   "outputs": [],
   "source": [
    "from scipy import io\n",
    "import pandas as pd\n",
    "import numpy as np\n",
    "import pprint\n",
    "import networkx as nx\n",
    "\n",
    "from matplotlib import pyplot, patches\n",
    "\n",
    "G = nx.read_graphml(\"./nematode-connectome.graphml\")\n",
    "\n",
    "adjacency_matrix = nx.to_numpy_matrix(G, dtype=np.bool, nodelist=None)\n",
    "\n",
    "#Plot adjacency matrix in toned-down black and white\n",
    "fig = pyplot.figure(figsize=(5, 5)) # in inches\n",
    "pyplot.imshow(adjacency_matrix,\n",
    "              cmap=\"Greys\",\n",
    "              interpolation=\"none\")\n",
    "\n",
    "pyplot.show()"
   ]
  }
 ],
 "metadata": {
  "kernelspec": {
   "display_name": "Python 2",
   "language": "python",
   "name": "python2"
  },
  "language_info": {
   "codemirror_mode": {
    "name": "ipython",
    "version": 2
   },
   "file_extension": ".py",
   "mimetype": "text/x-python",
   "name": "python",
   "nbconvert_exporter": "python",
   "pygments_lexer": "ipython2",
   "version": "2.7.10"
  }
 },
 "nbformat": 4,
 "nbformat_minor": 0
}
