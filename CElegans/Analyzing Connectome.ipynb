{
 "cells": [
  {
   "cell_type": "code",
   "execution_count": null,
   "metadata": {
    "collapsed": true
   },
   "outputs": [],
   "source": [
    "import networkx as nx\n",
    "import pandas as pd\n",
    "\n",
    "connectome = pd.read_excel('./CElegansNeuronTables.xls',sheet_name=\"Connectome\").as_matrix\n",
    "\n",
    "# Getting Edge As\n",
    "A = connectome[:,0]\n",
    "# Getting Edge Bs\n",
    "B = connectome[:,1]\n",
    "\n",
    "connection_types = connectome[:,2]\n",
    "num_connections = connectome[:,3]\n",
    "neurotransmitter_types = connectome[:,4]\n",
    "\n",
    "graph = nx.MultiDiGraph()\n",
    "\n",
    "neurotransmitters = [u'Acetylcholine', u'Acetylcholine_GJ', u'Acetylcholine_Tyramine',\n",
    "       u'Acetylcholine_Tyramine_GJ', u'Dopamine', u'Dopamine_GJ',\n",
    "       u'FMRFamide', u'FMRFamide_GJ', u'FRMFemide', u'FRMFemide_GJ',\n",
    "       u'GABA', u'GABA_GJ', u'Glutamate', u'Glutamate_GJ', u'Octapamine',\n",
    "       u'Octapamine_GJ', u'Serotonin', u'Serotonin_Acetylcholine',\n",
    "       u'Serotonin_Acetylcholine_GJ', u'Serotonin_GJ',\n",
    "       u'Serotonin_Glutamate', u'Serotonin_Glutamate_GJ']\n",
    "\n",
    "colormap = {\n",
    "    \n",
    "    \n",
    "}\n",
    "\n",
    "\n",
    "drawing_colors = []\n",
    "\n",
    "# Collects data for node_peers and node_index\n",
    "for c in xrange(0,len(A)):\n",
    "    graph.add_node(A[c])\n",
    "    graph.add_node(B[c])\n",
    "    edge_attributes = {\n",
    "        connection_type: connection_type[c],\n",
    "        neurotransmitter: neurotransmitter_types[c]\n",
    "    }\n",
    "    \n",
    "    graph.add_edge(A[c],\n",
    "                   B[c], \n",
    "                   connection_type=connection_type[c],\n",
    "                   neurotransmitter=neurotransmitter_types[c])\n",
    "\n"
   ]
  }
 ],
 "metadata": {
  "kernelspec": {
   "display_name": "Python 2",
   "language": "python",
   "name": "python2"
  },
  "language_info": {
   "codemirror_mode": {
    "name": "ipython",
    "version": 2
   },
   "file_extension": ".py",
   "mimetype": "text/x-python",
   "name": "python",
   "nbconvert_exporter": "python",
   "pygments_lexer": "ipython2",
   "version": "2.7.10"
  }
 },
 "nbformat": 4,
 "nbformat_minor": 0
}
