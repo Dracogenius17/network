{
 "cells": [
  {
   "cell_type": "code",
   "execution_count": 3,
   "metadata": {
    "collapsed": false
   },
   "outputs": [],
   "source": [
    "import pandas as pd\n",
    "import numpy as np\n",
    "import pprint\n",
    "import networkx as nx\n",
    "import matplotlib.pyplot as plt\n",
    "\n",
    "df = pd.read_excel('../data/CElegansNeuronTables.xls',sheet_name=\"Connectome\")\n",
    "\n",
    "M = df.as_matrix()\n",
    "# Getting Edge As\n",
    "A = M[:,0]\n",
    "# Getting Edge Bs\n",
    "B = M[:,1]\n",
    "\n",
    "graph = nx.Graph()\n",
    "\n",
    "# Collects data for node_peers and node_index\n",
    "for c in xrange(0,len(A)):\n",
    "    graph.add_node(A[c])\n",
    "    graph.add_node(B[c])\n",
    "    graph.add_edge(A[c],B[c])\n",
    "    \n",
    "\n",
    "# nx.draw_graphviz(graph, node_color=\"#A0CBE2\", width=4)\n",
    "# plt.show()\n",
    "\n",
    "nx.write_graphml(graph, '../data/nematode-connectome.graphml')\n",
    "\n",
    "\n",
    "        \n",
    "        \n",
    "        \n",
    "# pp = pprint.PrettyPrinter(indent=4)\n",
    "# pp.pprint(adjacency_matrix)"
   ]
  }
 ],
 "metadata": {
  "kernelspec": {
   "display_name": "Python 2",
   "language": "python",
   "name": "python2"
  },
  "language_info": {
   "codemirror_mode": {
    "name": "ipython",
    "version": 2
   },
   "file_extension": ".py",
   "mimetype": "text/x-python",
   "name": "python",
   "nbconvert_exporter": "python",
   "pygments_lexer": "ipython2",
   "version": "2.7.10"
  }
 },
 "nbformat": 4,
 "nbformat_minor": 0
}
