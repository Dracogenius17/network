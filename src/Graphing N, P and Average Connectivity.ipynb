{
 "cells": [
  {
   "cell_type": "markdown",
   "metadata": {},
   "source": [
    "The objective of this small notebook is to explore some of the concepts described in the paper [Characterization of Complex Networks: A Survey of measurements](https://www.dropbox.com/s/o8bvkbj07b8eifc/Network-Characterization.pdf?dl=0). By collecting data and analyzing it myself, I will start to gain an intuitive understanding of the relationships between different graph characteristics, learn how to use ipython, graphing, etc. I've learned that starting small is the first step to getting anywhere big. \n",
    "\n",
    "The following code snippet renders "
   ]
  },
  {
   "cell_type": "code",
   "execution_count": null,
   "metadata": {
    "collapsed": false
   },
   "outputs": [],
   "source": [
    "#Emables rendering of Matplotlib output\n",
    "# %matplotlib inline\n",
    "\n",
    "from mpl_toolkits.mplot3d import Axes3D\n",
    "from matplotlib import cm\n",
    "from  graphdatacollector import *\n",
    "import matplotlib.pyplot as plt"
   ]
  },
  {
   "cell_type": "code",
   "execution_count": null,
   "metadata": {
    "collapsed": false
   },
   "outputs": [],
   "source": [
    "fig = plt.figure()\n",
    "\n",
    "ax = plt.axes(projection='3d')\n",
    "\n",
    "x,y,z=correlate(average_connectivity)\n",
    "\n",
    "ax.set_xlabel('Number of nodes')\n",
    "ax.set_ylabel('Probability Two Nodes are Connected')\n",
    "ax.set_zlabel('Average Clustering')\n",
    "\n",
    "surf = ax.plot_surface(x,y,z, rstride=1, cstride=1, cmap=cm.coolwarm,\n",
    "                       linewidth=0, antialiased=False)\n",
    "\n",
    "fig.colorbar(surf, shrink=0.5, aspect=5)\n",
    "plt.show()"
   ]
  },
  {
   "cell_type": "markdown",
   "metadata": {},
   "source": [
    "## Analysis of this data\n",
    "You notice from the graph that there is a direct relationship between the probability two nodes are connected (p) and the average clustering (number of closed triplets over total number of triplets). Additionally, it seems that the clustering is not related to the number of nodes, but rather only to the probability that any two nodes are connected. \n",
    "\n"
   ]
  },
  {
   "cell_type": "code",
   "execution_count": null,
   "metadata": {
    "collapsed": true
   },
   "outputs": [],
   "source": []
  }
 ],
 "metadata": {
  "kernelspec": {
   "display_name": "Python 2",
   "language": "python",
   "name": "python2"
  },
  "language_info": {
   "codemirror_mode": {
    "name": "ipython",
    "version": 2
   },
   "file_extension": ".py",
   "mimetype": "text/x-python",
   "name": "python",
   "nbconvert_exporter": "python",
   "pygments_lexer": "ipython2",
   "version": "2.7.10"
  }
 },
 "nbformat": 4,
 "nbformat_minor": 0
}
