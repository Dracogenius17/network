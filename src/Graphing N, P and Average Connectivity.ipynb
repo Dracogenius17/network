{
 "cells": [
  {
   "cell_type": "markdown",
   "metadata": {},
   "source": []
  },
  {
   "cell_type": "code",
   "execution_count": null,
   "metadata": {
    "collapsed": false
   },
   "outputs": [],
   "source": [
    "from mpl_toolkits.mplot3d import Axes3D\n",
    "from matplotlib import cm\n",
    "\n",
    "from graphdatacollector import *\n",
    "\n",
    "fig = plt.figure()\n",
    "\n",
    "ax = plt.axes(projection='3d')\n",
    "\n",
    "x,y,z=extract_dimensions(reshape_data(collect_data()))\n",
    "\n",
    "ax.set_xlabel('Number of nodes')\n",
    "ax.set_ylabel('Probability Two Nodes are Connected')\n",
    "ax.set_zlabel('Average Clustering')\n",
    "\n",
    "surf = ax.plot_surface(x,y,z, rstride=1, cstride=1, cmap=cm.coolwarm,\n",
    "                       linewidth=0, antialiased=False)\n",
    "fig.colorbar(surf, shrink=0.5, aspect=5)\n",
    "plt.show()"
   ]
  },
  {
   "cell_type": "markdown",
   "metadata": {},
   "source": [
    "![](http://i.imgur.com/5kS70RF.png)\n",
    "You notice from the graph that there is a direct relationship between the probability two nodes are connected (p) and the average clustering (number of closed triplets over total number of triplets). Additionally, it seems that the clustering is not related to the number of nodes, but rather only to the probability that any two nodes are connected. "
   ]
  }
 ],
 "metadata": {
  "kernelspec": {
   "display_name": "Python 2",
   "language": "python",
   "name": "python2"
  },
  "language_info": {
   "codemirror_mode": {
    "name": "ipython",
    "version": 2
   },
   "file_extension": ".py",
   "mimetype": "text/x-python",
   "name": "python",
   "nbconvert_exporter": "python",
   "pygments_lexer": "ipython2",
   "version": "2.7.10"
  }
 },
 "nbformat": 4,
 "nbformat_minor": 0
}
