{
 "cells": [
  {
   "cell_type": "code",
   "execution_count": 20,
   "metadata": {
    "collapsed": false
   },
   "outputs": [
    {
     "name": "stdout",
     "output_type": "stream",
     "text": [
      "DD6 is not in node_index\n",
      "DD6 is not in node_index\n",
      "DD6 is not in node_index\n",
      "DD6 is not in node_index\n",
      "DD6 is not in node_index\n",
      "DD6 is not in node_index\n",
      "DD6 is not in node_index\n",
      "DD6 is not in node_index\n"
     ]
    }
   ],
   "source": [
    "import pandas as pd\n",
    "import numpy as np\n",
    "import pprint\n",
    "import networkx as nx\n",
    "import matplotlib.pyplot as plt\n",
    "\n",
    "df = pd.read_excel('../data/CElegansNeuronTables.xls',sheet_name=\"Connectome\")\n",
    "\n",
    "M = df.as_matrix()\n",
    "# Getting Edge As\n",
    "A = M[:,0]\n",
    "# Getting Edge Bs\n",
    "B = M[:,1]\n",
    "\n",
    "# Maps node name to an array of its peer names \n",
    "# Only after doing this can you map node number to array of numbers of peers\n",
    "node_peers = {}\n",
    "\n",
    "# Collects data for node_peers and node_index\n",
    "for c in xrange(0,len(A)):\n",
    "    key = str(A[c])\n",
    "    if not (key in node_peers): node_peers[key] = [] \n",
    "    node_peers[key].append(str(B[c]))\n",
    "    \n",
    "# An array of al unique nodes\n",
    "unique_nodes = node_peers.keys()\n",
    "    \n",
    "adjacency_matrix = np.zeros([len(unique_nodes),len(unique_nodes)])\n",
    "for node in node_peers:\n",
    "    peers = node_peers[node]\n",
    "    node_matr = adjacency_matrix[node_index[key]]\n",
    "    # For each peer node is connected to\n",
    "    for peer in peers:\n",
    "        if not (peer in node_index): print \"{0} is not in node_index\".format(peer)\n",
    "        else: node_matr[node_index[peer]] = 1\n",
    "            \n",
    "G=nx.from_numpy_matrix(adjacency_matrix)\n",
    "pos=nx.spring_layout(G)\n",
    "plt.clf()\n",
    "nx.draw(G,pos, node_color=\"#A0CBE2\", width=4)\n",
    "\n",
    "        \n",
    "        \n",
    "        \n",
    "# pp = pprint.PrettyPrinter(indent=4)\n",
    "# pp.pprint(adjacency_matrix)"
   ]
  }
 ],
 "metadata": {
  "kernelspec": {
   "display_name": "Python 2",
   "language": "python",
   "name": "python2"
  },
  "language_info": {
   "codemirror_mode": {
    "name": "ipython",
    "version": 2
   },
   "file_extension": ".py",
   "mimetype": "text/x-python",
   "name": "python",
   "nbconvert_exporter": "python",
   "pygments_lexer": "ipython2",
   "version": "2.7.10"
  }
 },
 "nbformat": 4,
 "nbformat_minor": 0
}
